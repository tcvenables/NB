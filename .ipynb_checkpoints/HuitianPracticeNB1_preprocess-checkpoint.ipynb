{
 "cells": [
  {
   "cell_type": "code",
   "execution_count": 10,
   "metadata": {},
   "outputs": [
    {
     "data": {
      "text/plain": [
       "'/mnt/d/Huitian_Practice/outs_D3'"
      ]
     },
     "execution_count": 10,
     "metadata": {},
     "output_type": "execute_result"
    }
   ],
   "source": [
    "os.getcwd()"
   ]
  },
  {
   "cell_type": "code",
   "execution_count": 11,
   "metadata": {},
   "outputs": [],
   "source": [
    "import os\n",
    "from pathlib import Path\n",
    "import HuitianPreProcessStuff as hpps"
   ]
  },
  {
   "cell_type": "code",
   "execution_count": 12,
   "metadata": {},
   "outputs": [
    {
     "data": {
      "text/plain": [
       "['analysis.tar.gz',\n",
       " 'antibody_analysis',\n",
       " 'cellsorted_possorted_genome_bam.bam',\n",
       " 'cloupe.cloupe',\n",
       " 'feature_reference.csv',\n",
       " 'filtered_feature_bc_matrix',\n",
       " 'filtered_feature_bc_matrix.h5',\n",
       " 'Hashtag_count',\n",
       " 'metrics_summary.csv',\n",
       " 'molecule_info.h5',\n",
       " 'possorted_genome_bam.bam',\n",
       " 'possorted_genome_bam.bam.bai',\n",
       " 'raw_feature_bc_matrix',\n",
       " 'raw_feature_bc_matrix.h5',\n",
       " 'web_summary.html']"
      ]
     },
     "execution_count": 12,
     "metadata": {},
     "output_type": "execute_result"
    }
   ],
   "source": [
    "os.listdir()"
   ]
  },
  {
   "cell_type": "markdown",
   "metadata": {},
   "source": [
    "set dir"
   ]
  },
  {
   "cell_type": "code",
   "execution_count": 13,
   "metadata": {},
   "outputs": [],
   "source": [
    "code_dir = os.getcwd()\n",
    "wk_dir = code_dir +\"/Hashtag_count_new\"\n",
    "Path(wk_dir).mkdir(parents=True, exist_ok=True)\n",
    "os.chdir(wk_dir)"
   ]
  },
  {
   "cell_type": "code",
   "execution_count": 16,
   "metadata": {},
   "outputs": [
    {
     "name": "stdout",
     "output_type": "stream",
     "text": [
      "  sample  total_cell_number  negative_percentage  doublet_percentage     C5  \\\n",
      "0  Sc_D3               9762                 0.09               39.91  18.36   \n",
      "\n",
      "     A8   NAV    A3     A5  \n",
      "0  9.17  9.55  6.08  16.84  \n"
     ]
    }
   ],
   "source": [
    "sp_name = \"Sc_D3\"\n",
    "ft_tsv = code_dir + '/filtered_feature_bc_matrix/features.tsv'\n",
    "mtx_mtx = code_dir + '/filtered_feature_bc_matrix/matrix.mtx'\n",
    "\n",
    "hpps.cellAbReads(sp_name,ft_tsv,mtx_mtx)\n",
    "celltypes = hpps.cellType(sp_name,30,0.6)"
   ]
  },
  {
   "cell_type": "code",
   "execution_count": null,
   "metadata": {},
   "outputs": [],
   "source": []
  }
 ],
 "metadata": {
  "kernelspec": {
   "display_name": "my_sc_py3.8",
   "language": "python",
   "name": "my_sc_py3.8"
  },
  "language_info": {
   "codemirror_mode": {
    "name": "ipython",
    "version": 3
   },
   "file_extension": ".py",
   "mimetype": "text/x-python",
   "name": "python",
   "nbconvert_exporter": "python",
   "pygments_lexer": "ipython3",
   "version": "3.9.5"
  }
 },
 "nbformat": 4,
 "nbformat_minor": 4
}
