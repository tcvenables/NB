{
 "cells": [
  {
   "cell_type": "code",
   "execution_count": 1,
   "metadata": {},
   "outputs": [],
   "source": [
    "import os\n",
    "from pathlib import Path\n",
    "import HuitianPreProcessStuff2 as hpps"
   ]
  },
  {
   "cell_type": "code",
   "execution_count": 2,
   "metadata": {},
   "outputs": [
    {
     "data": {
      "text/plain": [
       "'/mnt/d/Huitian_Practice/NB'"
      ]
     },
     "execution_count": 2,
     "metadata": {},
     "output_type": "execute_result"
    }
   ],
   "source": [
    "os.getcwd()"
   ]
  },
  {
   "cell_type": "code",
   "execution_count": 4,
   "metadata": {},
   "outputs": [],
   "source": [
    "os.chdir('/mnt/d/Huitian_Practice/exp391')"
   ]
  },
  {
   "cell_type": "code",
   "execution_count": 4,
   "metadata": {},
   "outputs": [
    {
     "data": {
      "text/plain": [
       "['1_Scanpy',\n",
       " '1_Scanpy_2',\n",
       " 'cache',\n",
       " 'cellsorted_possorted_genome_bam.bam',\n",
       " 'feature_reference.csv',\n",
       " 'filtered_feature_bc_matrix',\n",
       " 'Hashtag_count_new',\n",
       " 'metrics_summary.csv',\n",
       " 'possorted_genome_bam.bam',\n",
       " 'web_summary.html']"
      ]
     },
     "execution_count": 4,
     "metadata": {},
     "output_type": "execute_result"
    }
   ],
   "source": [
    "os.listdir()"
   ]
  },
  {
   "cell_type": "markdown",
   "metadata": {},
   "source": [
    "set dir"
   ]
  },
  {
   "cell_type": "code",
   "execution_count": 5,
   "metadata": {},
   "outputs": [],
   "source": [
    "code_dir = os.getcwd()\n",
    "wk_dir = code_dir +\"/Hashtag_count_new2\"\n",
    "Path(wk_dir).mkdir(parents=True, exist_ok=True)\n",
    "os.chdir(wk_dir)"
   ]
  },
  {
   "cell_type": "code",
   "execution_count": 7,
   "metadata": {},
   "outputs": [
    {
     "data": {
      "text/plain": [
       "'/mnt/d/Huitian_Practice/exp391/Hashtag_count_new/Hashtag_count_new'"
      ]
     },
     "execution_count": 7,
     "metadata": {},
     "output_type": "execute_result"
    }
   ],
   "source": [
    "wk_dir"
   ]
  },
  {
   "cell_type": "code",
   "execution_count": 6,
   "metadata": {},
   "outputs": [
    {
     "name": "stdout",
     "output_type": "stream",
     "text": [
      "   sample  total_cell_number  negative_percentage  doublet_percentage   A8P  \\\n",
      "0  exp391              18353                 0.03               20.45  6.55   \n",
      "\n",
      "    NWT   A8T    C5P    A5T  NP14B   C8P    A5P  \n",
      "0  4.32  8.66  13.49  17.82   5.37  4.89  18.41  \n"
     ]
    }
   ],
   "source": [
    "sp_name = \"exp391\"\n",
    "ft_tsv = code_dir + '/filtered_feature_bc_matrix/features.tsv'\n",
    "mtx_mtx = code_dir + '/filtered_feature_bc_matrix/matrix.mtx'\n",
    "\n",
    "hpps.cellAbReads(sp_name,ft_tsv,mtx_mtx)\n",
    "celltypes = hpps.cellType(sp_name,20,0.9)"
   ]
  },
  {
   "cell_type": "code",
   "execution_count": null,
   "metadata": {},
   "outputs": [],
   "source": []
  }
 ],
 "metadata": {
  "kernelspec": {
   "display_name": "my_sc_py3.8",
   "language": "python",
   "name": "my_sc_py3.8"
  },
  "language_info": {
   "codemirror_mode": {
    "name": "ipython",
    "version": 3
   },
   "file_extension": ".py",
   "mimetype": "text/x-python",
   "name": "python",
   "nbconvert_exporter": "python",
   "pygments_lexer": "ipython3",
   "version": "3.8.3"
  }
 },
 "nbformat": 4,
 "nbformat_minor": 4
}
