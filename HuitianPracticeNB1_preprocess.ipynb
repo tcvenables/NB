{
 "cells": [
  {
   "cell_type": "code",
   "execution_count": 1,
   "metadata": {},
   "outputs": [],
   "source": [
    "import os\n",
    "from pathlib import Path\n",
    "import HuitianPreProcessStuff as hpps"
   ]
  },
  {
   "cell_type": "code",
   "execution_count": 2,
   "metadata": {},
   "outputs": [
    {
     "data": {
      "text/plain": [
       "'/mnt/d/Huitian_Practice/NB'"
      ]
     },
     "execution_count": 2,
     "metadata": {},
     "output_type": "execute_result"
    }
   ],
   "source": [
    "os.getcwd()"
   ]
  },
  {
   "cell_type": "code",
   "execution_count": 3,
   "metadata": {},
   "outputs": [],
   "source": [
    "os.chdir('/mnt/d/Huitian_Practice/exp391')"
   ]
  },
  {
   "cell_type": "code",
   "execution_count": 4,
   "metadata": {},
   "outputs": [
    {
     "data": {
      "text/plain": [
       "['feature_reference.csv',\n",
       " 'filtered_feature_bc_matrix',\n",
       " 'metrics_summary.csv',\n",
       " 'Unconfirmed 52561.crdownload',\n",
       " 'web_summary.html']"
      ]
     },
     "execution_count": 4,
     "metadata": {},
     "output_type": "execute_result"
    }
   ],
   "source": [
    "os.listdir()"
   ]
  },
  {
   "cell_type": "markdown",
   "metadata": {},
   "source": [
    "set dir"
   ]
  },
  {
   "cell_type": "code",
   "execution_count": 5,
   "metadata": {},
   "outputs": [],
   "source": [
    "code_dir = os.getcwd()\n",
    "wk_dir = code_dir +\"/Hashtag_count_new\"\n",
    "Path(wk_dir).mkdir(parents=True, exist_ok=True)\n",
    "os.chdir(wk_dir)"
   ]
  },
  {
   "cell_type": "code",
   "execution_count": 6,
   "metadata": {},
   "outputs": [
    {
     "name": "stdout",
     "output_type": "stream",
     "text": [
      "  sample  total_cell_number  negative_percentage  doublet_percentage    A5T  \\\n",
      "0  Sc_D8              18353                 0.18                 5.5  18.69   \n",
      "\n",
      "     C5P   C8P   A8P   NWT    A5P  NP14B    A8T  \n",
      "0  16.67  7.29  8.36  6.63  19.52   7.04  10.12  \n"
     ]
    }
   ],
   "source": [
    "sp_name = \"Sc_D8\"\n",
    "ft_tsv = code_dir + '/filtered_feature_bc_matrix/features.tsv'\n",
    "mtx_mtx = code_dir + '/filtered_feature_bc_matrix/matrix.mtx'\n",
    "\n",
    "hpps.cellAbReads(sp_name,ft_tsv,mtx_mtx)\n",
    "celltypes = hpps.cellType(sp_name,30,0.6)"
   ]
  },
  {
   "cell_type": "code",
   "execution_count": null,
   "metadata": {},
   "outputs": [],
   "source": []
  }
 ],
 "metadata": {
  "kernelspec": {
   "display_name": "my_sc_py3.8",
   "language": "python",
   "name": "my_sc_py3.8"
  },
  "language_info": {
   "codemirror_mode": {
    "name": "ipython",
    "version": 3
   },
   "file_extension": ".py",
   "mimetype": "text/x-python",
   "name": "python",
   "nbconvert_exporter": "python",
   "pygments_lexer": "ipython3",
   "version": "3.8.3"
  }
 },
 "nbformat": 4,
 "nbformat_minor": 4
}
